{
 "cells": [
  {
   "cell_type": "code",
   "execution_count": 2,
   "id": "a79d8098-d052-4af0-bdb3-285688af2141",
   "metadata": {},
   "outputs": [],
   "source": [
    "import matplotlib.pyplot as plt\n",
    "import netCDF4\n",
    "import numpy as np\n",
    "import matplotlib.pyplot as plt\n",
    "from mpl_toolkits.basemap import Basemap\n",
    "import glasbey\n",
    "from matplotlib.colors import ListedColormap\n",
    "from ipywidgets import interact, interactive, fixed, interact_manual\n",
    "import ipywidgets as widgets\n",
    "\n",
    "import matplotlib.pyplot as plt\n",
    "%matplotlib inline"
   ]
  },
  {
   "cell_type": "markdown",
   "id": "9dbd8d9e-ef3e-455c-9980-31de4f2adf5d",
   "metadata": {},
   "source": [
    "# Ecological Marine Units\n",
    "\n",
    "Downloaded \"EMU netCDF\" file from https://esri.maps.arcgis.com/home/group.html?id=6c78a5125d3244f38d1bc732ef0ee743#overview"
   ]
  },
  {
   "cell_type": "code",
   "execution_count": 3,
   "id": "19d96f7b-0ddb-4c5c-a808-2660b471af74",
   "metadata": {},
   "outputs": [],
   "source": [
    "fp = '../../data/province_shapes/emu_netCDF/emu_v5_20200914.nc'\n",
    "nc = netCDF4.Dataset(fp)\n",
    "\n",
    "output_dir = \"output_final/dbscan/interpretation/\""
   ]
  },
  {
   "cell_type": "code",
   "execution_count": 4,
   "id": "c24ac64b-58a6-4e6c-a5db-6fb3c6d1ed86",
   "metadata": {},
   "outputs": [],
   "source": [
    "lat = nc.variables[\"latitude\"][:]\n",
    "lon = nc.variables[\"longitude\"][:]\n",
    "depth = nc.variables[\"depth\"][:]\n",
    "\n",
    "temp = nc.variables[\"temp\"][:]\n",
    "salinity = nc.variables[\"salinity\"][:]\n",
    "appO2ut = nc.variables[\"appO2ut\"][:]\n",
    "dissO2 = nc.variables[\"dissO2\"][:]\n",
    "nitrate = nc.variables[\"nitrate\"][:]\n",
    "percO2sat = nc.variables[\"percO2sat\"][:]\n",
    "phosphate = nc.variables[\"phosphate\"][:]\n",
    "silicate = nc.variables[\"silicate\"][:]\n",
    "srtm30 = nc.variables[\"srtm30\"][:]\n",
    "\n",
    "emu = nc.variables[\"name_emu\"][:]"
   ]
  },
  {
   "cell_type": "code",
   "execution_count": 5,
   "id": "160ad2b8-a7b9-4f68-8ca0-6749bff55bc2",
   "metadata": {},
   "outputs": [],
   "source": [
    "# # my regions\n",
    "# nc = netCDF4.Dataset(\"regions.nc\")\n",
    "\n",
    "# lat = nc.variables[\"LATITUDE\"][:]\n",
    "# lon = nc.variables[\"LONGITUDE\"][:]\n",
    "# depth = nc.variables[\"LEV_M\"][:]\n",
    "\n",
    "# emu = nc.variables[\"label\"][:]"
   ]
  },
  {
   "cell_type": "code",
   "execution_count": 6,
   "id": "b16ffa86-72d2-48af-ad9c-6d6d4f5e407d",
   "metadata": {},
   "outputs": [
    {
     "data": {
      "image/png": "[encoded data removed]",
      "text/html": [
       "<div style=\"vertical-align: middle;\"><strong>from_list</strong> </div><div class=\"cmap\"><img alt=\"from_list colormap\" title=\"from_list\" style=\"border: 1px solid #555;\" src=\"data:image/png;base64,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\"></div><div style=\"vertical-align: middle; max-width: 514px; display: flex; justify-content: space-between;\"><div style=\"float: left;\"><div title=\"#d21820ff\" style=\"display: inline-block; width: 1em; height: 1em; margin: 0; vertical-align: middle; border: 1px solid #555; background-color: #d21820ff;\"></div> under</div><div style=\"margin: 0 auto; display: inline-block;\">bad <div title=\"#00000000\" style=\"display: inline-block; width: 1em; height: 1em; margin: 0; vertical-align: middle; border: 1px solid #555; background-color: #00000000;\"></div></div><div style=\"float: right;\">over <div title=\"#6d6982ff\" style=\"display: inline-block; width: 1em; height: 1em; margin: 0; vertical-align: middle; border: 1px solid #555; background-color: #6d6982ff;\"></div></div>"
      ],
      "text/plain": [
       "<matplotlib.colors.ListedColormap at 0x2cb36ba2c70>"
      ]
     },
     "execution_count": 6,
     "metadata": {},
     "output_type": "execute_result"
    }
   ],
   "source": [
    "# define color map and ranges\n",
    "unique_labels = np.sort(np.unique(emu.data))\n",
    "upper = unique_labels.max() if not np.isnan(unique_labels.max()) else unique_labels[-2]\n",
    "lower = unique_labels[0]\n",
    "\n",
    "colors = glasbey.create_palette(palette_size=abs(upper-lower))\n",
    "cm = ListedColormap(colors)  \n",
    "\n",
    "vmin = emu.min() if emu.min() >= 0 else unique_labels[1]\n",
    "vmax = emu.max()\n",
    "\n",
    "cm"
   ]
  },
  {
   "cell_type": "code",
   "execution_count": 7,
   "id": "ec8132ba-5fcc-44b8-83f0-e9f5d3de4c9a",
   "metadata": {},
   "outputs": [
    {
     "data": {
      "application/vnd.jupyter.widget-view+json": {
       "model_id": "57d9be1c0c474e1499a3f40db7492400",
       "version_major": 2,
       "version_minor": 0
      },
      "text/plain": [
       "interactive(children=(IntSlider(value=101, description='depth_level', max=101), Output()), _dom_classes=('widg…"
      ]
     },
     "metadata": {},
     "output_type": "display_data"
    }
   ],
   "source": [
    "# plot global regions\n",
    "plt.rcParams[\"figure.figsize\"] = (10, 5)\n",
    "\n",
    "def plot_emus_over_depth(depth_level):\n",
    "    plt.imshow(emu[depth_level,:,:], cmap=cm, vmin=vmin, vmax=vmax)\n",
    "    plt.colorbar()\n",
    "    plt.gca().invert_yaxis()\n",
    "\n",
    "depth_levels = np.array((range(len(depth))))\n",
    "interact(plot_emus_over_depth, depth_level=widgets.IntSlider(value=depth_levels.max(), min=depth_levels.min(), max=depth_levels.max(), step=1))\n",
    "\n",
    "plt.show()"
   ]
  },
  {
   "cell_type": "markdown",
   "id": "7aae2a1d-66d1-472f-9080-869e03cabe0a",
   "metadata": {},
   "source": [
    "## North Atlantic \n",
    "(esp. deep waters)"
   ]
  },
  {
   "cell_type": "code",
   "execution_count": 8,
   "id": "eebdfa64-5d1e-4dd0-9661-cd0dfab782ee",
   "metadata": {},
   "outputs": [
    {
     "data": {
      "application/vnd.jupyter.widget-view+json": {
       "model_id": "4bad1cc52fbd4e68b72f14c0a0ce5d4b",
       "version_major": 2,
       "version_minor": 0
      },
      "text/plain": [
       "interactive(children=(IntSlider(value=101, description='depth_level', max=101), Output()), _dom_classes=('widg…"
      ]
     },
     "metadata": {},
     "output_type": "display_data"
    }
   ],
   "source": [
    "# defining out area of interest\n",
    "lat_min = 0\n",
    "lat_max = 70\n",
    "\n",
    "lon_min = -77\n",
    "lon_max = 30\n",
    "\n",
    "# latitude lower and upper index\n",
    "lat_min_p = np.argmin( np.abs( lat - lat_min ) )\n",
    "lat_max_p = np.argmin( np.abs( lat - lat_max ) ) \n",
    "\n",
    "# longitude lower and upper index\n",
    "lon_min_p = np.argmin( np.abs( lon - lon_min ) )\n",
    "lon_max_p = np.argmin( np.abs( lon - lon_max ) )  \n",
    "\n",
    "our_emu = emu[:, lat_min_p:lat_max_p , lon_min_p:lon_max_p]\n",
    "\n",
    "# plot settings\n",
    "factor = 12\n",
    "mymap = Basemap(llcrnrlon=lon_min, llcrnrlat=lat_min, urcrnrlon=lon_max, urcrnrlat=lat_max)\n",
    "plt.rcParams[\"figure.figsize\"] = ((lon_max - lon_min)/factor, (lat_max - lat_min)/factor)\n",
    "\n",
    "# plot\n",
    "def plot_emus_over_depth(depth_level):\n",
    "    t = our_emu[depth_level,:,:]\n",
    "    mymap.imshow(t, cmap=cm, vmin=vmin, vmax=vmax)\n",
    "    mymap.drawcoastlines(linewidth=0.5)\n",
    "    mymap.fillcontinents()\n",
    "    mymap.drawparallels(np.arange(int(lat_min),int(lat_max), 10),labels=[1,0,0,0])\n",
    "    mymap.drawmeridians(np.arange(int(lon_min),int(lon_max), 10),labels=[0,0,0,1])\n",
    "    plt.tight_layout()\n",
    "    # plt.savefig(output_dir + \"emu_surface.png\")\n",
    "\n",
    "depth_levels = np.array((range(len(depth))))\n",
    "interact(plot_emus_over_depth, depth_level=widgets.IntSlider(value=depth_levels.max(), min=depth_levels.min(), max=depth_levels.max(), step=1))\n",
    "\n",
    "plt.show()"
   ]
  },
  {
   "cell_type": "code",
   "execution_count": 9,
   "id": "1ab0a6e1-2e86-4aa4-b771-3c7616807e97",
   "metadata": {},
   "outputs": [
    {
     "name": "stdout",
     "output_type": "stream",
     "text": [
      "Our Atlantic deep water regions are equivalent to depth levels 0 until 25 of the EMU regions.\n"
     ]
    }
   ],
   "source": [
    "print(f\"Our Atlantic deep water regions are equivalent to depth levels 0 until {np.argwhere(depth==-3000)[0][0]} of the EMU regions.\")"
   ]
  },
  {
   "cell_type": "code",
   "execution_count": 10,
   "id": "63e85a2d-b2b0-4de5-9096-04ee06df4c16",
   "metadata": {},
   "outputs": [
    {
     "data": {
      "text/plain": [
       "-1700"
      ]
     },
     "execution_count": 10,
     "metadata": {},
     "output_type": "execute_result"
    }
   ],
   "source": [
    "depth[41]"
   ]
  },
  {
   "cell_type": "markdown",
   "id": "016678cd-fbb6-442d-bfc7-38b5cb153aea",
   "metadata": {},
   "source": [
    "## Labrador Sea"
   ]
  },
  {
   "cell_type": "code",
   "execution_count": 11,
   "id": "6b62f3f7-4e80-4821-aa5b-5f2e3a7b9741",
   "metadata": {},
   "outputs": [
    {
     "data": {
      "application/vnd.jupyter.widget-view+json": {
       "model_id": "9e5e57f6f6bf4e818d9a20a4efac8d29",
       "version_major": 2,
       "version_minor": 0
      },
      "text/plain": [
       "interactive(children=(IntSlider(value=101, description='depth_level', max=101), Output()), _dom_classes=('widg…"
      ]
     },
     "metadata": {},
     "output_type": "display_data"
    }
   ],
   "source": [
    "lon_min = -77\n",
    "lon_max = -30 # 70\n",
    "\n",
    "lat_min = 50\n",
    "lat_max = 90\n",
    "\n",
    "# latitude lower and upper index\n",
    "lat_min_p = np.argmin( np.abs( lat - lat_min ) )\n",
    "lat_max_p = np.argmin( np.abs( lat - lat_max ) ) \n",
    "\n",
    "# longitude lower and upper index\n",
    "lon_min_p = np.argmin( np.abs( lon - lon_min ) )\n",
    "lon_max_p = np.argmin( np.abs( lon - lon_max ) )  \n",
    "\n",
    "lab_emu = emu[:, lat_min_p:lat_max_p , lon_min_p:lon_max_p]\n",
    "\n",
    "factor = 12\n",
    "plt.rcParams[\"figure.figsize\"] = ((lon_max - lon_min)/factor, (lat_max - lat_min)/factor)\n",
    "# mymap = Basemap(llcrnrlon=lon_min, llcrnrlat=lat_min, urcrnrlon=lon_max, urcrnrlat=lat_max)\n",
    "def plot_emus_over_depth(depth_level):\n",
    "    plt.imshow(lab_emu[depth_level,:,:], cmap=cm, vmin=vmin, vmax=vmax)\n",
    "    # plt.colorbar()\n",
    "    # mymap.drawcoastlines(linewidth=0.5)\n",
    "    # mymap.fillcontinents()\n",
    "    # mymap.drawparallels(np.arange(int(lat_min),int(lat_max), 10),labels=[1,0,0,0])\n",
    "    # mymap.drawmeridians(np.arange(int(lon_min),int(lon_max), 10),labels=[0,0,0,1])\n",
    "    \n",
    "    plt.gca().invert_yaxis()\n",
    "\n",
    "# plt.rcParams[\"figure.figsize\"] = (abs((lon_max_p-lon_min_p)/12), abs((lat_max_p-lat_min_p)/12))\n",
    "depth_levels = np.array((range(len(depth))))\n",
    "interact(plot_emus_over_depth, depth_level=widgets.IntSlider(value=depth_levels.max(), min=depth_levels.min(), max=depth_levels.max(), step=1))\n",
    "\n",
    "plt.show()"
   ]
  },
  {
   "cell_type": "code",
   "execution_count": 12,
   "id": "42779c53-5ed6-4705-b78c-3a38d1a0ef4f",
   "metadata": {},
   "outputs": [
    {
     "data": {
      "text/plain": [
       "-1400"
      ]
     },
     "execution_count": 12,
     "metadata": {},
     "output_type": "execute_result"
    }
   ],
   "source": [
    "depth[47]"
   ]
  },
  {
   "cell_type": "markdown",
   "id": "0e017aa2-a564-4baa-bd00-2e475f88b070",
   "metadata": {},
   "source": [
    "## Mediterranean Sea"
   ]
  },
  {
   "cell_type": "code",
   "execution_count": 13,
   "id": "a935efa3-b92b-4d6a-bb43-210cb05e6fa8",
   "metadata": {},
   "outputs": [
    {
     "data": {
      "application/vnd.jupyter.widget-view+json": {
       "model_id": "841cbb2951a04263b490fadda963daf3",
       "version_major": 2,
       "version_minor": 0
      },
      "text/plain": [
       "interactive(children=(IntSlider(value=101, description='depth_level', max=101), Output()), _dom_classes=('widg…"
      ]
     },
     "metadata": {},
     "output_type": "display_data"
    }
   ],
   "source": [
    "lon_min = -6\n",
    "lon_max = 30\n",
    "\n",
    "lat_min = 30\n",
    "lat_max = 48\n",
    "\n",
    "# latitude lower and upper index\n",
    "lat_min_p = np.argmin( np.abs( lat - lat_min ) )\n",
    "lat_max_p = np.argmin( np.abs( lat - lat_max ) ) \n",
    "\n",
    "# longitude lower and upper index\n",
    "lon_min_p = np.argmin( np.abs( lon - lon_min ) )\n",
    "lon_max_p = np.argmin( np.abs( lon - lon_max ) )  \n",
    "\n",
    "# define Mediterranean area\n",
    "medi_emu = emu[:, lat_min_p:lat_max_p , lon_min_p:lon_max_p]\n",
    "for loni in range(medi_emu.shape[2]):\n",
    "    for lati in range(medi_emu.shape[1]):\n",
    "        if (lati > 50 and loni < 35) or (lati > 40 and loni > 130):\n",
    "            medi_emu.mask[:, lati, loni] = True \n",
    "            medi_emu.data[:, lati, loni] = -9999\n",
    "medi_labels = np.delete(np.sort(np.unique(medi_emu.data)), 0)\n",
    "\n",
    "\n",
    "def plot_emus_over_depth(depth_level):\n",
    "    plt.imshow(medi_emu[depth_level,:,:], cmap=cm, vmin=vmin, vmax=vmax)\n",
    "    plt.colorbar()\n",
    "    plt.gca().invert_yaxis()\n",
    "\n",
    "plt.rcParams[\"figure.figsize\"] = (abs((lon_max_p-lon_min_p)/12), abs((lat_max_p-lat_min_p)/12))\n",
    "depth_levels = np.array((range(len(depth))))\n",
    "interact(plot_emus_over_depth, depth_level=widgets.IntSlider(value=depth_levels.max(), min=depth_levels.min(), max=depth_levels.max(), step=1))\n",
    "\n",
    "plt.show()"
   ]
  },
  {
   "cell_type": "code",
   "execution_count": 14,
   "id": "a4f0c0ab-e076-4244-85b0-fb0ca4fe2acf",
   "metadata": {},
   "outputs": [
    {
     "name": "stdout",
     "output_type": "stream",
     "text": [
      "There are 5 different clusters: [18, 26, 27, 29, 30].\n"
     ]
    }
   ],
   "source": [
    "print(f\"There are {len(medi_labels)} different clusters: {list(medi_labels)}.\")"
   ]
  },
  {
   "cell_type": "code",
   "execution_count": 15,
   "id": "7506495e-f241-41c3-8808-41cf90301502",
   "metadata": {},
   "outputs": [
    {
     "name": "stdout",
     "output_type": "stream",
     "text": [
      "Cluster vanish below -125 m.\n"
     ]
    }
   ],
   "source": [
    "print(f\"Cluster vanish below {depth[80]} m.\")"
   ]
  },
  {
   "cell_type": "code",
   "execution_count": null,
   "id": "011cb563-a574-40e5-8566-4667c9da0dc3",
   "metadata": {},
   "outputs": [],
   "source": []
  }
 ],
 "metadata": {
  "kernelspec": {
   "display_name": "Python 3 (ipykernel)",
   "language": "python",
   "name": "python3"
  },
  "language_info": {
   "codemirror_mode": {
    "name": "ipython",
    "version": 3
   },
   "file_extension": ".py",
   "mimetype": "text/x-python",
   "name": "python",
   "nbconvert_exporter": "python",
   "pygments_lexer": "ipython3",
   "version": "3.9.18"
  }
 },
 "nbformat": 4,
 "nbformat_minor": 5
}
