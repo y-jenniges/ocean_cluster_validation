{
 "cells": [
  {
   "cell_type": "code",
   "execution_count": 1,
   "id": "be8cde56-da80-4816-bded-43c93d5cc593",
   "metadata": {},
   "outputs": [],
   "source": [
    "import numpy as np\n",
    "import pandas as pd\n",
    "import matplotlib.pyplot as plt\n",
    "from mpl_toolkits.basemap import Basemap\n",
    "from kneed import KneeLocator\n",
    "from geopy import distance  # geopy can only compute distances at surface"
   ]
  },
  {
   "cell_type": "code",
   "execution_count": null,
   "id": "4d95be15-1e76-4084-b2b0-801b56aa20b5",
   "metadata": {},
   "outputs": [],
   "source": [
    "def compute_elbow_threshold(df_label_counts, y_name=\"count\", y_label=\"Number of samples\"):\n",
    "    x = df_label_counts.index\n",
    "    y = df_label_counts[y_name]\n",
    "    kn = KneeLocator(x=x, y=y, curve='convex', direction='increasing')\n",
    "    knee = kn.knee\n",
    "\n",
    "    fig = plt.figure()\n",
    "    plt.xlabel('Clusters')\n",
    "    plt.ylabel(y_label)\n",
    "    plt.plot(x, y, \"-\")  # \"'x-')\n",
    "    plt.vlines(knee, plt.ylim()[0], plt.ylim()[1], linestyles='dashed', color=\"orange\")\n",
    "    plt.hlines(df_label_counts.iloc[knee][y_name], plt.xlim()[0], plt.xlim()[1], linestyles='dashed', color=\"orange\")\n",
    "    # plt.xticks([knee], labels=[df_label_counts.iloc[knee][\"labels\"]])\n",
    "    plt.xticks([knee])\n",
    "    plt.yticks(list(plt.yticks()[0]) + [df_label_counts.iloc[knee][y_name]])\n",
    "    plt.show()\n",
    "\n",
    "    return df_label_counts.iloc[knee][\"labels\"], df_label_counts.iloc[knee][y_name]"
   ]
  },
  {
   "cell_type": "code",
   "execution_count": null,
   "id": "aeedb8f9-cac4-4d44-8322-b9f1d094312f",
   "metadata": {},
   "outputs": [],
   "source": [
    "def coupled_label_plot(df):\n",
    "    map = Basemap(llcrnrlon=df[\"LONGITUDE\"].min(),\n",
    "                  llcrnrlat=df[\"LATITUDE\"].min(),\n",
    "                  urcrnrlon=df[\"LONGITUDE\"].max(),\n",
    "                  urcrnrlat=df[\"LATITUDE\"].max())\n",
    "\n",
    "    # plot clusters in 3D\n",
    "    fig = plt.figure()\n",
    "    ax = fig.add_subplot(projection='3d')\n",
    "    ax.scatter(df[\"LONGITUDE\"], df[\"LATITUDE\"], df[\"LEV_M\"], color=df[\"color\"], s=2, alpha=1, zorder=4)\n",
    "    ax.add_collection3d(map.drawcoastlines(linewidth=0.5))\n",
    "    ax.set_box_aspect((np.ptp(df[\"LONGITUDE\"]), np.ptp(df[\"LATITUDE\"]),\n",
    "                       np.ptp(df[\"LEV_M\"]) / 50))  # aspect ratio is 1:1:1 in data space\n",
    "    plt.gca().invert_zaxis()\n",
    "    plt.show()\n",
    "\n",
    "    # plot clusters in UMAP space\n",
    "    fig = plt.figure()\n",
    "    ax = fig.add_subplot(projection='3d')\n",
    "    ax.scatter(df[\"e0\"], df[\"e1\"], df[\"e2\"], c=df[\"color\"], alpha=0.8, zorder=4, s=1)  # , s=s, alpha=1, zorder=4)\n",
    "    plt.show()"
   ]
  },
  {
   "cell_type": "code",
   "execution_count": null,
   "id": "d49bee75-7164-4da2-9f43-ad06b416abad",
   "metadata": {},
   "outputs": [],
   "source": [
    "def compute_volume(row, dlat, dlon, depths):\n",
    "    # careful!! I am assuming that depth does not affect distance calculations\n",
    "    # approximate volume as a box, ignore depth, surface approximated by trapezoid\n",
    "    lat = row[\"LATITUDE\"]\n",
    "    lon = row[\"LONGITUDE\"]\n",
    "    depth = row[\"LEV_M\"]\n",
    "\n",
    "    # find depth step size\n",
    "    idx = np.argwhere(depths == depth)\n",
    "    next_depth = depths[idx+1]\n",
    "    ddepth = (next_depth - depth).flatten()[0]\n",
    "\n",
    "    # compute box edge points\n",
    "    p0 = np.array([lat - dlat / 2, lon - dlon / 2, depth])\n",
    "    p1 = np.array([lat - dlat / 2, lon + dlon / 2, depth])\n",
    "    p2 = np.array([lat + dlat / 2, lon + dlon / 2, depth])\n",
    "    p3 = np.array([lat + dlat / 2, lon - dlon / 2, depth])\n",
    "\n",
    "    # compute distances\n",
    "    # d03 = distance.distance(p0, p3).m\n",
    "    d01 = distance.distance(p0, p1).m\n",
    "    d23 = distance.distance(p2, p3).m\n",
    "    # d12 = distance.distance(p2, p1).m\n",
    "\n",
    "    # compute height of trapezoid\n",
    "    p01 = np.array([p0[0], lon, p0[2]])\n",
    "    p23 = np.array([p2[0], lon, p2[2]])\n",
    "    h = distance.distance(p01, p23).m\n",
    "\n",
    "    # compute volume\n",
    "    # v = round((depth+ ddepth) * 0.5 * (d01 + d23) * h, 4)  # volume in m3\n",
    "    v = ddepth * 0.5 * (d01 + d23) * h  # volume in m3\n",
    "\n",
    "    return v"
   ]
  },
  {
   "cell_type": "code",
   "execution_count": null,
   "id": "2fa5c93a-65be-4416-8ae0-64da44a9b917",
   "metadata": {},
   "outputs": [],
   "source": [
    "def drop_clusters_with_few_samples(df, thresh=None):\n",
    "    \"\"\" If thresh is None, the Kneedle algorithm will be used to determine a treshold. \"\"\"\n",
    "    # count number of grid cells in each cluster\n",
    "    df_nums = df.groupby(\"labels\").count()[\"color\"].reset_index().rename(columns={\"color\": \"count\"})\n",
    "    df_nums = df_nums.sort_values(\"count\").reset_index(drop=True)\n",
    "    df_nums[\"labels\"] = df_nums[\"labels\"].astype(str)\n",
    "\n",
    "    # compute threshold to cut off clusters\n",
    "    if not thresh:\n",
    "        cluster_label, thresh = compute_elbow_threshold(df_nums, y_name=\"count\", y_label=\"Number of samples\")\n",
    "    else:\n",
    "        # plot number of cells per cluster\n",
    "        plt.plot(df_nums[\"labels\"], df_nums[\"count\"])\n",
    "        # plt.yscale(\"log\")\n",
    "        plt.ylabel(\"Number of samples\")\n",
    "        plt.xlabel(\"Cluster\")\n",
    "        plt.xticks([])\n",
    "        plt.axhline(thresh, color=\"orange\")\n",
    "        plt.yticks(list(plt.yticks()[0]) + [thresh])\n",
    "        plt.show()\n",
    "\n",
    "    # set all labels to -1 (noise) where num samples is too small\n",
    "    labels_to_keep = df_nums[df_nums[\"count\"] >= thresh].labels\n",
    "    print(\"Remaining number of clusters:\" + str(len(labels_to_keep)))\n",
    "    df_new = df[df[\"labels\"].isin(labels_to_keep)]\n",
    "\n",
    "    # plotting\n",
    "    coupled_label_plot(df_new)\n",
    "\n",
    "    return df_new"
   ]
  },
  {
   "cell_type": "code",
   "execution_count": null,
   "id": "715759a2-2788-4246-9bfe-a7c45a3ce1c4",
   "metadata": {},
   "outputs": [],
   "source": [
    "def drop_clusters_with_small_volume(df, thresh=None):\n",
    "    # get depth resolution\n",
    "    depths = df[\"LEV_M\"].unique()\n",
    "    depths = np.concatenate([depths, np.array([5000]).reshape(1, -1).flatten()])  # adding the lower depth bound\n",
    "\n",
    "    # compute volume\n",
    "    df[\"volume\"] = df.apply(compute_volume, axis=1, args=(dlat, dlon, depths))  # careful with rounding\n",
    "\n",
    "    # check cluster volumes\n",
    "    df_vols = df.groupby(\"labels\").sum()[\"volume\"].reset_index()\n",
    "    df_vols = df_vols.sort_values(\"volume\").reset_index(drop=True)\n",
    "    df_vols[\"labels\"] = df_vols[\"labels\"].astype(str)\n",
    "\n",
    "    if not thresh:\n",
    "        cluster_label, thresh = compute_elbow_threshold(df_vols, y_name=\"volume\", y_label=\"Cluster volume\")\n",
    "    else:\n",
    "        # plot cluster volumes\n",
    "        plt.plot(df_vols[\"labels\"], df_vols[\"volume\"])\n",
    "        plt.xlabel(\"Cluster\")\n",
    "        plt.xticks([])\n",
    "        plt.ylabel(\"Cluster volume [$m^3$]\")\n",
    "        # plt.yscale(\"log\")\n",
    "        # plt.ylabel(r\"log(volume) [$m^3$]\")\n",
    "        plt.yticks(list(plt.yticks()[0]) + [thresh])\n",
    "        plt.axhline(thresh, color=\"orange\")\n",
    "        plt.show()\n",
    "\n",
    "    # decide which labels to keep\n",
    "    labels_to_keep = df_vols[df_vols[\"volume\"] >= thresh].labels\n",
    "    print(\"Remaining number of clusters:\" + str(len(labels_to_keep)))\n",
    "    df_new = df[df[\"labels\"].isin(labels_to_keep)]\n",
    "\n",
    "    # plot new data in 3D and UMAP space\n",
    "    coupled_label_plot(df_new)\n",
    "\n",
    "    return df_new\n"
   ]
  },
  {
   "cell_type": "code",
   "execution_count": null,
   "id": "e7573907-61aa-4ab9-ad99-94d2a4aaf1ab",
   "metadata": {},
   "outputs": [],
   "source": [
    "# load data\n",
    "df = pd.read_csv(\"data/dbscan_on_embedding.csv\")\n",
    "df[\"labels\"] = df[\"labels\"].astype(str)"
   ]
  },
  {
   "cell_type": "code",
   "execution_count": null,
   "id": "b83c1d5e-9d4b-41ad-8185-7466b73c23f0",
   "metadata": {},
   "outputs": [],
   "source": [
    "# plot DBSCAN labels in 3D and UMAP space\n",
    "coupled_label_plot(df)"
   ]
  },
  {
   "cell_type": "code",
   "execution_count": null,
   "id": "d27d2539-55f3-4fcc-8ff1-b1592d77502c",
   "metadata": {},
   "outputs": [],
   "source": [
    "# drop clusters with few samples (manual thresh: 60)\n",
    "df_s = drop_clusters_with_few_samples(df, None)"
   ]
  },
  {
   "cell_type": "code",
   "execution_count": null,
   "id": "bce153bb-40f4-44b8-b7d9-01e2c60870d0",
   "metadata": {},
   "outputs": [],
   "source": [
    "# save df\n",
    "# df_s.to_csv(\"output/dbscan_on_embedding_sampleDropped.csv\", index=False)"
   ]
  },
  {
   "cell_type": "code",
   "execution_count": null,
   "id": "206bb9a6-56e2-4d5e-97e8-00e9385ec44c",
   "metadata": {},
   "outputs": [],
   "source": [
    "# drop clusters with small volume (manual thresh: 3e14)\n",
    "df_v = drop_clusters_with_small_volume(df, None)"
   ]
  },
  {
   "cell_type": "code",
   "execution_count": null,
   "id": "42525956-2176-49b5-92e3-b28a1449a535",
   "metadata": {},
   "outputs": [],
   "source": [
    "# save df\n",
    "# df_v.to_csv(\"output/dbscan_on_embedding_volumeDropped.csv\", index=False)"
   ]
  }
 ],
 "metadata": {
  "kernelspec": {
   "display_name": "Python 3 (ipykernel)",
   "language": "python",
   "name": "python3"
  },
  "language_info": {
   "codemirror_mode": {
    "name": "ipython",
    "version": 3
   },
   "file_extension": ".py",
   "mimetype": "text/x-python",
   "name": "python",
   "nbconvert_exporter": "python",
   "pygments_lexer": "ipython3",
   "version": "3.11.4"
  }
 },
 "nbformat": 4,
 "nbformat_minor": 5
}
