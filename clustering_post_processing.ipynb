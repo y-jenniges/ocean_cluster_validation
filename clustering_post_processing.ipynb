{
 "cells": [
  {
   "cell_type": "code",
   "execution_count": 2,
   "id": "be8cde56-da80-4816-bded-43c93d5cc593",
   "metadata": {
    "scrolled": true
   },
   "outputs": [],
   "source": [
    "import numpy as np\n",
    "import pandas as pd\n",
    "import matplotlib.pyplot as plt\n",
    "from mpl_toolkits.basemap import Basemap\n",
    "from kneed import KneeLocator\n",
    "from geopy import distance  # geopy can only compute distances at surface\n",
    "from sklearn.cluster import AgglomerativeClustering"
   ]
  },
  {
   "cell_type": "code",
   "execution_count": 3,
   "id": "4d95be15-1e76-4084-b2b0-801b56aa20b5",
   "metadata": {},
   "outputs": [],
   "source": [
    "def compute_elbow_threshold(df_label_counts, y_name=\"count\", y_label=\"Number of samples\"):\n",
    "    \"\"\" Given an elbow curve, this functino finds the turning point using the KneeLocator. \"\"\"\n",
    "    x = df_label_counts.index\n",
    "    y = df_label_counts[y_name]\n",
    "    kn = KneeLocator(x=x, y=y, curve='convex', direction='increasing')\n",
    "    knee = kn.knee\n",
    "\n",
    "    fig = plt.figure()\n",
    "    plt.xlabel('Clusters')\n",
    "    plt.ylabel(y_label)\n",
    "    plt.plot(x, y, \"-\")  # \"'x-')\n",
    "    plt.vlines(knee, plt.ylim()[0], plt.ylim()[1], linestyles='dashed', color=\"orange\")\n",
    "    plt.hlines(df_label_counts.iloc[knee][y_name], plt.xlim()[0], plt.xlim()[1], linestyles='dashed', color=\"orange\")\n",
    "    # plt.xticks([knee], labels=[df_label_counts.iloc[knee][\"labels\"]])\n",
    "    plt.xticks([knee])\n",
    "    plt.yticks(list(plt.yticks()[0]) + [df_label_counts.iloc[knee][y_name]])\n",
    "    plt.show()\n",
    "\n",
    "    return df_label_counts.iloc[knee][\"labels\"], df_label_counts.iloc[knee][y_name]"
   ]
  },
  {
   "cell_type": "code",
   "execution_count": 4,
   "id": "aeedb8f9-cac4-4d44-8322-b9f1d094312f",
   "metadata": {},
   "outputs": [],
   "source": [
    "def coupled_label_plot(df):\n",
    "    \"\"\" Plots the clusters in geographical and UMAP space in matching colours. \"\"\"\n",
    "    map = Basemap(llcrnrlon=df[\"LONGITUDE\"].min(),\n",
    "                  llcrnrlat=df[\"LATITUDE\"].min(),\n",
    "                  urcrnrlon=df[\"LONGITUDE\"].max(),\n",
    "                  urcrnrlat=df[\"LATITUDE\"].max())\n",
    "\n",
    "    # plot clusters in 3D\n",
    "    fig = plt.figure()\n",
    "    ax = fig.add_subplot(projection='3d')\n",
    "    ax.scatter(df[\"LONGITUDE\"], df[\"LATITUDE\"], df[\"LEV_M\"], color=df[\"color\"], s=2, alpha=1, zorder=4)\n",
    "    ax.add_collection3d(map.drawcoastlines(linewidth=0.5))\n",
    "    ax.set_box_aspect((np.ptp(df[\"LONGITUDE\"]), np.ptp(df[\"LATITUDE\"]),\n",
    "                       np.ptp(df[\"LEV_M\"]) / 50))  # aspect ratio is 1:1:1 in data space\n",
    "    plt.gca().invert_zaxis()\n",
    "    plt.show()\n",
    "\n",
    "    # plot clusters in UMAP space\n",
    "    fig = plt.figure()\n",
    "    ax = fig.add_subplot(projection='3d')\n",
    "    ax.scatter(df[\"e0\"], df[\"e1\"], df[\"e2\"], c=df[\"color\"], alpha=0.8, zorder=4, s=1)  # , s=s, alpha=1, zorder=4)\n",
    "    plt.show()"
   ]
  },
  {
   "cell_type": "code",
   "execution_count": 5,
   "id": "d49bee75-7164-4da2-9f43-ad06b416abad",
   "metadata": {},
   "outputs": [],
   "source": [
    "def compute_volume(row, dlat, dlon, depths):\n",
    "    # careful!! I am assuming that depth does not affect distance calculations\n",
    "    # approximate volume as a box, ignore depth, surface approximated by trapezoid\n",
    "    lat = row[\"LATITUDE\"]\n",
    "    lon = row[\"LONGITUDE\"]\n",
    "    depth = row[\"LEV_M\"]\n",
    "\n",
    "    # find depth step size\n",
    "    idx = np.argwhere(depths == depth)\n",
    "    next_depth = depths[idx+1]\n",
    "    ddepth = (next_depth - depth).flatten()[0]\n",
    "\n",
    "    # compute box edge points\n",
    "    p0 = np.array([lat - dlat / 2, lon - dlon / 2, depth])\n",
    "    p1 = np.array([lat - dlat / 2, lon + dlon / 2, depth])\n",
    "    p2 = np.array([lat + dlat / 2, lon + dlon / 2, depth])\n",
    "    p3 = np.array([lat + dlat / 2, lon - dlon / 2, depth])\n",
    "\n",
    "    # compute distances\n",
    "    # d03 = distance.distance(p0, p3).m\n",
    "    d01 = distance.distance(p0, p1).m\n",
    "    d23 = distance.distance(p2, p3).m\n",
    "    # d12 = distance.distance(p2, p1).m\n",
    "\n",
    "    # compute height of trapezoid\n",
    "    p01 = np.array([p0[0], lon, p0[2]])\n",
    "    p23 = np.array([p2[0], lon, p2[2]])\n",
    "    h = distance.distance(p01, p23).m\n",
    "\n",
    "    # compute volume\n",
    "    # v = round((depth+ ddepth) * 0.5 * (d01 + d23) * h, 4)  # volume in m3\n",
    "    v = ddepth * 0.5 * (d01 + d23) * h  # volume in m3\n",
    "\n",
    "    return v"
   ]
  },
  {
   "cell_type": "code",
   "execution_count": 6,
   "id": "2fa5c93a-65be-4416-8ae0-64da44a9b917",
   "metadata": {},
   "outputs": [],
   "source": [
    "def drop_clusters_with_few_samples(df, thresh=None):\n",
    "    \"\"\" If thresh is None, the Kneedle algorithm will be used to determine a treshold. \"\"\"\n",
    "    # count number of grid cells in each cluster\n",
    "    df_nums = df.groupby(\"labels\").count()[\"color\"].reset_index().rename(columns={\"color\": \"count\"})\n",
    "    df_nums = df_nums.sort_values(\"count\").reset_index(drop=True)\n",
    "    df_nums[\"labels\"] = df_nums[\"labels\"].astype(str)\n",
    "\n",
    "    # compute threshold to cut off clusters\n",
    "    if not thresh:\n",
    "        cluster_label, thresh = compute_elbow_threshold(df_nums, y_name=\"count\", y_label=\"Number of samples\")\n",
    "    else:\n",
    "        # plot number of cells per cluster\n",
    "        plt.plot(df_nums[\"labels\"], df_nums[\"count\"])\n",
    "        # plt.yscale(\"log\")\n",
    "        plt.ylabel(\"Number of samples\")\n",
    "        plt.xlabel(\"Cluster\")\n",
    "        plt.xticks([])\n",
    "        plt.axhline(thresh, color=\"orange\")\n",
    "        plt.yticks(list(plt.yticks()[0]) + [thresh])\n",
    "        plt.show()\n",
    "\n",
    "    # set all labels to -1 (noise) where num samples is too small\n",
    "    labels_to_keep = df_nums[df_nums[\"count\"] >= thresh].labels\n",
    "    print(\"Remaining number of clusters:\" + str(len(labels_to_keep)))\n",
    "    df_new = df[df[\"labels\"].isin(labels_to_keep)]\n",
    "\n",
    "    # plotting\n",
    "    coupled_label_plot(df_new)\n",
    "\n",
    "    return df_new"
   ]
  },
  {
   "cell_type": "code",
   "execution_count": 7,
   "id": "715759a2-2788-4246-9bfe-a7c45a3ce1c4",
   "metadata": {},
   "outputs": [],
   "source": [
    "def drop_clusters_with_small_volume(df, thresh=None):\n",
    "    # get depth resolution\n",
    "    depths = df[\"LEV_M\"].unique()\n",
    "    depths = np.concatenate([depths, np.array([5000]).reshape(1, -1).flatten()])  # adding the lower depth bound\n",
    "\n",
    "    # compute volume\n",
    "    df[\"volume\"] = df.apply(compute_volume, axis=1, args=(dlat, dlon, depths))  # careful with rounding\n",
    "\n",
    "    # check cluster volumes\n",
    "    df_vols = df.groupby(\"labels\").sum()[\"volume\"].reset_index()\n",
    "    df_vols = df_vols.sort_values(\"volume\").reset_index(drop=True)\n",
    "    df_vols[\"labels\"] = df_vols[\"labels\"].astype(str)\n",
    "\n",
    "    if not thresh:\n",
    "        cluster_label, thresh = compute_elbow_threshold(df_vols, y_name=\"volume\", y_label=\"Cluster volume\")\n",
    "    else:\n",
    "        # plot cluster volumes\n",
    "        plt.plot(df_vols[\"labels\"], df_vols[\"volume\"])\n",
    "        plt.xlabel(\"Cluster\")\n",
    "        plt.xticks([])\n",
    "        plt.ylabel(\"Cluster volume [$m^3$]\")\n",
    "        # plt.yscale(\"log\")\n",
    "        # plt.ylabel(r\"log(volume) [$m^3$]\")\n",
    "        plt.yticks(list(plt.yticks()[0]) + [thresh])\n",
    "        plt.axhline(thresh, color=\"orange\")\n",
    "        plt.show()\n",
    "\n",
    "    # decide which labels to keep\n",
    "    labels_to_keep = df_vols[df_vols[\"volume\"] >= thresh].labels\n",
    "    print(\"Remaining number of clusters:\" + str(len(labels_to_keep)))\n",
    "    df_new = df[df[\"labels\"].isin(labels_to_keep)]\n",
    "\n",
    "    # plot new data in 3D and UMAP space\n",
    "    coupled_label_plot(df_new)\n",
    "\n",
    "    return df_new\n"
   ]
  },
  {
   "cell_type": "code",
   "execution_count": 8,
   "id": "e7573907-61aa-4ab9-ad99-94d2a4aaf1ab",
   "metadata": {},
   "outputs": [
    {
     "ename": "FileNotFoundError",
     "evalue": "[Errno 2] No such file or directory: 'data/dbscan_on_embedding.csv'",
     "output_type": "error",
     "traceback": [
      "\u001b[0;31m---------------------------------------------------------------------------\u001b[0m",
      "\u001b[0;31mFileNotFoundError\u001b[0m                         Traceback (most recent call last)",
      "Cell \u001b[0;32mIn[8], line 2\u001b[0m\n\u001b[1;32m      1\u001b[0m \u001b[38;5;66;03m# load data\u001b[39;00m\n\u001b[0;32m----> 2\u001b[0m df \u001b[38;5;241m=\u001b[39m \u001b[43mpd\u001b[49m\u001b[38;5;241;43m.\u001b[39;49m\u001b[43mread_csv\u001b[49m\u001b[43m(\u001b[49m\u001b[38;5;124;43m\"\u001b[39;49m\u001b[38;5;124;43mdata/dbscan_on_embedding.csv\u001b[39;49m\u001b[38;5;124;43m\"\u001b[39;49m\u001b[43m)\u001b[49m\n\u001b[1;32m      3\u001b[0m df[\u001b[38;5;124m\"\u001b[39m\u001b[38;5;124mlabels\u001b[39m\u001b[38;5;124m\"\u001b[39m] \u001b[38;5;241m=\u001b[39m df[\u001b[38;5;124m\"\u001b[39m\u001b[38;5;124mlabels\u001b[39m\u001b[38;5;124m\"\u001b[39m]\u001b[38;5;241m.\u001b[39mastype(\u001b[38;5;28mstr\u001b[39m)\n",
      "File \u001b[0;32m~/.conda/envs/cluster_validation/lib/python3.11/site-packages/pandas/io/parsers/readers.py:948\u001b[0m, in \u001b[0;36mread_csv\u001b[0;34m(filepath_or_buffer, sep, delimiter, header, names, index_col, usecols, dtype, engine, converters, true_values, false_values, skipinitialspace, skiprows, skipfooter, nrows, na_values, keep_default_na, na_filter, verbose, skip_blank_lines, parse_dates, infer_datetime_format, keep_date_col, date_parser, date_format, dayfirst, cache_dates, iterator, chunksize, compression, thousands, decimal, lineterminator, quotechar, quoting, doublequote, escapechar, comment, encoding, encoding_errors, dialect, on_bad_lines, delim_whitespace, low_memory, memory_map, float_precision, storage_options, dtype_backend)\u001b[0m\n\u001b[1;32m    935\u001b[0m kwds_defaults \u001b[38;5;241m=\u001b[39m _refine_defaults_read(\n\u001b[1;32m    936\u001b[0m     dialect,\n\u001b[1;32m    937\u001b[0m     delimiter,\n\u001b[0;32m   (...)\u001b[0m\n\u001b[1;32m    944\u001b[0m     dtype_backend\u001b[38;5;241m=\u001b[39mdtype_backend,\n\u001b[1;32m    945\u001b[0m )\n\u001b[1;32m    946\u001b[0m kwds\u001b[38;5;241m.\u001b[39mupdate(kwds_defaults)\n\u001b[0;32m--> 948\u001b[0m \u001b[38;5;28;01mreturn\u001b[39;00m \u001b[43m_read\u001b[49m\u001b[43m(\u001b[49m\u001b[43mfilepath_or_buffer\u001b[49m\u001b[43m,\u001b[49m\u001b[43m \u001b[49m\u001b[43mkwds\u001b[49m\u001b[43m)\u001b[49m\n",
      "File \u001b[0;32m~/.conda/envs/cluster_validation/lib/python3.11/site-packages/pandas/io/parsers/readers.py:611\u001b[0m, in \u001b[0;36m_read\u001b[0;34m(filepath_or_buffer, kwds)\u001b[0m\n\u001b[1;32m    608\u001b[0m _validate_names(kwds\u001b[38;5;241m.\u001b[39mget(\u001b[38;5;124m\"\u001b[39m\u001b[38;5;124mnames\u001b[39m\u001b[38;5;124m\"\u001b[39m, \u001b[38;5;28;01mNone\u001b[39;00m))\n\u001b[1;32m    610\u001b[0m \u001b[38;5;66;03m# Create the parser.\u001b[39;00m\n\u001b[0;32m--> 611\u001b[0m parser \u001b[38;5;241m=\u001b[39m \u001b[43mTextFileReader\u001b[49m\u001b[43m(\u001b[49m\u001b[43mfilepath_or_buffer\u001b[49m\u001b[43m,\u001b[49m\u001b[43m \u001b[49m\u001b[38;5;241;43m*\u001b[39;49m\u001b[38;5;241;43m*\u001b[39;49m\u001b[43mkwds\u001b[49m\u001b[43m)\u001b[49m\n\u001b[1;32m    613\u001b[0m \u001b[38;5;28;01mif\u001b[39;00m chunksize \u001b[38;5;129;01mor\u001b[39;00m iterator:\n\u001b[1;32m    614\u001b[0m     \u001b[38;5;28;01mreturn\u001b[39;00m parser\n",
      "File \u001b[0;32m~/.conda/envs/cluster_validation/lib/python3.11/site-packages/pandas/io/parsers/readers.py:1448\u001b[0m, in \u001b[0;36mTextFileReader.__init__\u001b[0;34m(self, f, engine, **kwds)\u001b[0m\n\u001b[1;32m   1445\u001b[0m     \u001b[38;5;28mself\u001b[39m\u001b[38;5;241m.\u001b[39moptions[\u001b[38;5;124m\"\u001b[39m\u001b[38;5;124mhas_index_names\u001b[39m\u001b[38;5;124m\"\u001b[39m] \u001b[38;5;241m=\u001b[39m kwds[\u001b[38;5;124m\"\u001b[39m\u001b[38;5;124mhas_index_names\u001b[39m\u001b[38;5;124m\"\u001b[39m]\n\u001b[1;32m   1447\u001b[0m \u001b[38;5;28mself\u001b[39m\u001b[38;5;241m.\u001b[39mhandles: IOHandles \u001b[38;5;241m|\u001b[39m \u001b[38;5;28;01mNone\u001b[39;00m \u001b[38;5;241m=\u001b[39m \u001b[38;5;28;01mNone\u001b[39;00m\n\u001b[0;32m-> 1448\u001b[0m \u001b[38;5;28mself\u001b[39m\u001b[38;5;241m.\u001b[39m_engine \u001b[38;5;241m=\u001b[39m \u001b[38;5;28;43mself\u001b[39;49m\u001b[38;5;241;43m.\u001b[39;49m\u001b[43m_make_engine\u001b[49m\u001b[43m(\u001b[49m\u001b[43mf\u001b[49m\u001b[43m,\u001b[49m\u001b[43m \u001b[49m\u001b[38;5;28;43mself\u001b[39;49m\u001b[38;5;241;43m.\u001b[39;49m\u001b[43mengine\u001b[49m\u001b[43m)\u001b[49m\n",
      "File \u001b[0;32m~/.conda/envs/cluster_validation/lib/python3.11/site-packages/pandas/io/parsers/readers.py:1705\u001b[0m, in \u001b[0;36mTextFileReader._make_engine\u001b[0;34m(self, f, engine)\u001b[0m\n\u001b[1;32m   1703\u001b[0m     \u001b[38;5;28;01mif\u001b[39;00m \u001b[38;5;124m\"\u001b[39m\u001b[38;5;124mb\u001b[39m\u001b[38;5;124m\"\u001b[39m \u001b[38;5;129;01mnot\u001b[39;00m \u001b[38;5;129;01min\u001b[39;00m mode:\n\u001b[1;32m   1704\u001b[0m         mode \u001b[38;5;241m+\u001b[39m\u001b[38;5;241m=\u001b[39m \u001b[38;5;124m\"\u001b[39m\u001b[38;5;124mb\u001b[39m\u001b[38;5;124m\"\u001b[39m\n\u001b[0;32m-> 1705\u001b[0m \u001b[38;5;28mself\u001b[39m\u001b[38;5;241m.\u001b[39mhandles \u001b[38;5;241m=\u001b[39m \u001b[43mget_handle\u001b[49m\u001b[43m(\u001b[49m\n\u001b[1;32m   1706\u001b[0m \u001b[43m    \u001b[49m\u001b[43mf\u001b[49m\u001b[43m,\u001b[49m\n\u001b[1;32m   1707\u001b[0m \u001b[43m    \u001b[49m\u001b[43mmode\u001b[49m\u001b[43m,\u001b[49m\n\u001b[1;32m   1708\u001b[0m \u001b[43m    \u001b[49m\u001b[43mencoding\u001b[49m\u001b[38;5;241;43m=\u001b[39;49m\u001b[38;5;28;43mself\u001b[39;49m\u001b[38;5;241;43m.\u001b[39;49m\u001b[43moptions\u001b[49m\u001b[38;5;241;43m.\u001b[39;49m\u001b[43mget\u001b[49m\u001b[43m(\u001b[49m\u001b[38;5;124;43m\"\u001b[39;49m\u001b[38;5;124;43mencoding\u001b[39;49m\u001b[38;5;124;43m\"\u001b[39;49m\u001b[43m,\u001b[49m\u001b[43m \u001b[49m\u001b[38;5;28;43;01mNone\u001b[39;49;00m\u001b[43m)\u001b[49m\u001b[43m,\u001b[49m\n\u001b[1;32m   1709\u001b[0m \u001b[43m    \u001b[49m\u001b[43mcompression\u001b[49m\u001b[38;5;241;43m=\u001b[39;49m\u001b[38;5;28;43mself\u001b[39;49m\u001b[38;5;241;43m.\u001b[39;49m\u001b[43moptions\u001b[49m\u001b[38;5;241;43m.\u001b[39;49m\u001b[43mget\u001b[49m\u001b[43m(\u001b[49m\u001b[38;5;124;43m\"\u001b[39;49m\u001b[38;5;124;43mcompression\u001b[39;49m\u001b[38;5;124;43m\"\u001b[39;49m\u001b[43m,\u001b[49m\u001b[43m \u001b[49m\u001b[38;5;28;43;01mNone\u001b[39;49;00m\u001b[43m)\u001b[49m\u001b[43m,\u001b[49m\n\u001b[1;32m   1710\u001b[0m \u001b[43m    \u001b[49m\u001b[43mmemory_map\u001b[49m\u001b[38;5;241;43m=\u001b[39;49m\u001b[38;5;28;43mself\u001b[39;49m\u001b[38;5;241;43m.\u001b[39;49m\u001b[43moptions\u001b[49m\u001b[38;5;241;43m.\u001b[39;49m\u001b[43mget\u001b[49m\u001b[43m(\u001b[49m\u001b[38;5;124;43m\"\u001b[39;49m\u001b[38;5;124;43mmemory_map\u001b[39;49m\u001b[38;5;124;43m\"\u001b[39;49m\u001b[43m,\u001b[49m\u001b[43m \u001b[49m\u001b[38;5;28;43;01mFalse\u001b[39;49;00m\u001b[43m)\u001b[49m\u001b[43m,\u001b[49m\n\u001b[1;32m   1711\u001b[0m \u001b[43m    \u001b[49m\u001b[43mis_text\u001b[49m\u001b[38;5;241;43m=\u001b[39;49m\u001b[43mis_text\u001b[49m\u001b[43m,\u001b[49m\n\u001b[1;32m   1712\u001b[0m \u001b[43m    \u001b[49m\u001b[43merrors\u001b[49m\u001b[38;5;241;43m=\u001b[39;49m\u001b[38;5;28;43mself\u001b[39;49m\u001b[38;5;241;43m.\u001b[39;49m\u001b[43moptions\u001b[49m\u001b[38;5;241;43m.\u001b[39;49m\u001b[43mget\u001b[49m\u001b[43m(\u001b[49m\u001b[38;5;124;43m\"\u001b[39;49m\u001b[38;5;124;43mencoding_errors\u001b[39;49m\u001b[38;5;124;43m\"\u001b[39;49m\u001b[43m,\u001b[49m\u001b[43m \u001b[49m\u001b[38;5;124;43m\"\u001b[39;49m\u001b[38;5;124;43mstrict\u001b[39;49m\u001b[38;5;124;43m\"\u001b[39;49m\u001b[43m)\u001b[49m\u001b[43m,\u001b[49m\n\u001b[1;32m   1713\u001b[0m \u001b[43m    \u001b[49m\u001b[43mstorage_options\u001b[49m\u001b[38;5;241;43m=\u001b[39;49m\u001b[38;5;28;43mself\u001b[39;49m\u001b[38;5;241;43m.\u001b[39;49m\u001b[43moptions\u001b[49m\u001b[38;5;241;43m.\u001b[39;49m\u001b[43mget\u001b[49m\u001b[43m(\u001b[49m\u001b[38;5;124;43m\"\u001b[39;49m\u001b[38;5;124;43mstorage_options\u001b[39;49m\u001b[38;5;124;43m\"\u001b[39;49m\u001b[43m,\u001b[49m\u001b[43m \u001b[49m\u001b[38;5;28;43;01mNone\u001b[39;49;00m\u001b[43m)\u001b[49m\u001b[43m,\u001b[49m\n\u001b[1;32m   1714\u001b[0m \u001b[43m\u001b[49m\u001b[43m)\u001b[49m\n\u001b[1;32m   1715\u001b[0m \u001b[38;5;28;01massert\u001b[39;00m \u001b[38;5;28mself\u001b[39m\u001b[38;5;241m.\u001b[39mhandles \u001b[38;5;129;01mis\u001b[39;00m \u001b[38;5;129;01mnot\u001b[39;00m \u001b[38;5;28;01mNone\u001b[39;00m\n\u001b[1;32m   1716\u001b[0m f \u001b[38;5;241m=\u001b[39m \u001b[38;5;28mself\u001b[39m\u001b[38;5;241m.\u001b[39mhandles\u001b[38;5;241m.\u001b[39mhandle\n",
      "File \u001b[0;32m~/.conda/envs/cluster_validation/lib/python3.11/site-packages/pandas/io/common.py:863\u001b[0m, in \u001b[0;36mget_handle\u001b[0;34m(path_or_buf, mode, encoding, compression, memory_map, is_text, errors, storage_options)\u001b[0m\n\u001b[1;32m    858\u001b[0m \u001b[38;5;28;01melif\u001b[39;00m \u001b[38;5;28misinstance\u001b[39m(handle, \u001b[38;5;28mstr\u001b[39m):\n\u001b[1;32m    859\u001b[0m     \u001b[38;5;66;03m# Check whether the filename is to be opened in binary mode.\u001b[39;00m\n\u001b[1;32m    860\u001b[0m     \u001b[38;5;66;03m# Binary mode does not support 'encoding' and 'newline'.\u001b[39;00m\n\u001b[1;32m    861\u001b[0m     \u001b[38;5;28;01mif\u001b[39;00m ioargs\u001b[38;5;241m.\u001b[39mencoding \u001b[38;5;129;01mand\u001b[39;00m \u001b[38;5;124m\"\u001b[39m\u001b[38;5;124mb\u001b[39m\u001b[38;5;124m\"\u001b[39m \u001b[38;5;129;01mnot\u001b[39;00m \u001b[38;5;129;01min\u001b[39;00m ioargs\u001b[38;5;241m.\u001b[39mmode:\n\u001b[1;32m    862\u001b[0m         \u001b[38;5;66;03m# Encoding\u001b[39;00m\n\u001b[0;32m--> 863\u001b[0m         handle \u001b[38;5;241m=\u001b[39m \u001b[38;5;28;43mopen\u001b[39;49m\u001b[43m(\u001b[49m\n\u001b[1;32m    864\u001b[0m \u001b[43m            \u001b[49m\u001b[43mhandle\u001b[49m\u001b[43m,\u001b[49m\n\u001b[1;32m    865\u001b[0m \u001b[43m            \u001b[49m\u001b[43mioargs\u001b[49m\u001b[38;5;241;43m.\u001b[39;49m\u001b[43mmode\u001b[49m\u001b[43m,\u001b[49m\n\u001b[1;32m    866\u001b[0m \u001b[43m            \u001b[49m\u001b[43mencoding\u001b[49m\u001b[38;5;241;43m=\u001b[39;49m\u001b[43mioargs\u001b[49m\u001b[38;5;241;43m.\u001b[39;49m\u001b[43mencoding\u001b[49m\u001b[43m,\u001b[49m\n\u001b[1;32m    867\u001b[0m \u001b[43m            \u001b[49m\u001b[43merrors\u001b[49m\u001b[38;5;241;43m=\u001b[39;49m\u001b[43merrors\u001b[49m\u001b[43m,\u001b[49m\n\u001b[1;32m    868\u001b[0m \u001b[43m            \u001b[49m\u001b[43mnewline\u001b[49m\u001b[38;5;241;43m=\u001b[39;49m\u001b[38;5;124;43m\"\u001b[39;49m\u001b[38;5;124;43m\"\u001b[39;49m\u001b[43m,\u001b[49m\n\u001b[1;32m    869\u001b[0m \u001b[43m        \u001b[49m\u001b[43m)\u001b[49m\n\u001b[1;32m    870\u001b[0m     \u001b[38;5;28;01melse\u001b[39;00m:\n\u001b[1;32m    871\u001b[0m         \u001b[38;5;66;03m# Binary mode\u001b[39;00m\n\u001b[1;32m    872\u001b[0m         handle \u001b[38;5;241m=\u001b[39m \u001b[38;5;28mopen\u001b[39m(handle, ioargs\u001b[38;5;241m.\u001b[39mmode)\n",
      "\u001b[0;31mFileNotFoundError\u001b[0m: [Errno 2] No such file or directory: 'data/dbscan_on_embedding.csv'"
     ]
    }
   ],
   "source": [
    "# load data\n",
    "df = pd.read_csv(\"data/dbscan_on_embedding.csv\")\n",
    "df[\"labels\"] = df[\"labels\"].astype(str)"
   ]
  },
  {
   "cell_type": "code",
   "execution_count": null,
   "id": "b83c1d5e-9d4b-41ad-8185-7466b73c23f0",
   "metadata": {},
   "outputs": [],
   "source": [
    "# plot DBSCAN labels in 3D and UMAP space\n",
    "coupled_label_plot(df)"
   ]
  },
  {
   "cell_type": "code",
   "execution_count": null,
   "id": "d27d2539-55f3-4fcc-8ff1-b1592d77502c",
   "metadata": {},
   "outputs": [],
   "source": [
    "# drop clusters with few samples (manual thresh: 60)\n",
    "df_s = drop_clusters_with_few_samples(df, None)"
   ]
  },
  {
   "cell_type": "code",
   "execution_count": null,
   "id": "bce153bb-40f4-44b8-b7d9-01e2c60870d0",
   "metadata": {},
   "outputs": [],
   "source": [
    "# save df\n",
    "# df_s.to_csv(\"output/dbscan_on_embedding_sampleDropped.csv\", index=False)"
   ]
  },
  {
   "cell_type": "code",
   "execution_count": null,
   "id": "206bb9a6-56e2-4d5e-97e8-00e9385ec44c",
   "metadata": {},
   "outputs": [],
   "source": [
    "# drop clusters with small volume (manual thresh: 3e14)\n",
    "df_v = drop_clusters_with_small_volume(df, None)"
   ]
  },
  {
   "cell_type": "code",
   "execution_count": null,
   "id": "42525956-2176-49b5-92e3-b28a1449a535",
   "metadata": {},
   "outputs": [],
   "source": [
    "# save df\n",
    "# df_v.to_csv(\"output/dbscan_on_embedding_volumeDropped.csv\", index=False)"
   ]
  }
 ],
 "metadata": {
  "kernelspec": {
   "display_name": "Python 3 (ipykernel)",
   "language": "python",
   "name": "python3"
  },
  "language_info": {
   "codemirror_mode": {
    "name": "ipython",
    "version": 3
   },
   "file_extension": ".py",
   "mimetype": "text/x-python",
   "name": "python",
   "nbconvert_exporter": "python",
   "pygments_lexer": "ipython3",
   "version": "3.9.18"
  }
 },
 "nbformat": 4,
 "nbformat_minor": 5
}
